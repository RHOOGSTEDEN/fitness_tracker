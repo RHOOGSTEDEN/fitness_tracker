{
 "cells": [
  {
   "cell_type": "code",
   "execution_count": 1,
   "metadata": {},
   "outputs": [
    {
     "name": "stdout",
     "output_type": "stream",
     "text": [
      "What was your time?30\n",
      "What was your distance?3.15\n",
      "What is the date?20/10/2017\n"
     ]
    }
   ],
   "source": [
    "times = []\n",
    "dist = []\n",
    "date = []\n",
    "\n",
    "new_time = float(input(\"What was your time?\"))\n",
    "times.append(new_time)\n",
    "new_dist = float(input(\"What was your distance?\"))\n",
    "dist.append(new_dist)\n",
    "new_date = str(input(\"What was the date?\"))\n",
    "date.append(new_date)"
   ]
  },
  {
   "cell_type": "code",
   "execution_count": 2,
   "metadata": {},
   "outputs": [
    {
     "name": "stdout",
     "output_type": "stream",
     "text": [
      "[9.523809523809524]\n"
     ]
    }
   ],
   "source": [
    "run_time_avg = [x/y for x,y in zip(times, dist)]\n",
    "print(run_time_avg)"
   ]
  },
  {
   "cell_type": "code",
   "execution_count": 6,
   "metadata": {},
   "outputs": [
    {
     "name": "stdout",
     "output_type": "stream",
     "text": [
      "The fastest time is 9.523809523809524 minutes per mile\n"
     ]
    }
   ],
   "source": [
    "fastest_run_time = min(run_time_avg)\n",
    "print(\"The fastest time is {0} minutes per mile\".format(fastest_run_time))"
   ]
  },
  {
   "cell_type": "code",
   "execution_count": null,
   "metadata": {
    "collapsed": true
   },
   "outputs": [],
   "source": []
  }
 ],
 "metadata": {
  "kernelspec": {
   "display_name": "Python 3",
   "language": "python",
   "name": "python3"
  },
  "language_info": {
   "codemirror_mode": {
    "name": "ipython",
    "version": 3
   },
   "file_extension": ".py",
   "mimetype": "text/x-python",
   "name": "python",
   "nbconvert_exporter": "python",
   "pygments_lexer": "ipython3",
   "version": "3.6.1"
  }
 },
 "nbformat": 4,
 "nbformat_minor": 2
}
